{
  "nbformat": 4,
  "nbformat_minor": 0,
  "metadata": {
    "colab": {
      "provenance": [],
      "collapsed_sections": [
        "fu35wY0eRkXz",
        "JpeUZOWpR7Db",
        "txKfAb9XSKu5"
      ]
    },
    "kernelspec": {
      "name": "python3",
      "display_name": "Python 3"
    },
    "language_info": {
      "name": "python"
    }
  },
  "cells": [
    {
      "cell_type": "markdown",
      "source": [
        "# **HW 1**"
      ],
      "metadata": {
        "id": "tRIzkPxyReRb"
      }
    },
    {
      "cell_type": "code",
      "source": [
        "from re import L\n",
        "import cv2\n",
        "import numpy as np\n",
        "import matplotlib.pyplot as plt\n",
        "from google.colab.patches import cv2_imshow\n",
        "import pandas as pd\n",
        "import csv"
      ],
      "metadata": {
        "id": "7GqEJhDNRch0"
      },
      "execution_count": null,
      "outputs": []
    },
    {
      "cell_type": "code",
      "source": [
        "xyz_curves = \"/content/cieXYZ_curves.csv\"\n",
        "csvfile = pd.read_csv(xyz_curves)\n",
        "print(csvfile)\n",
        "\n",
        "# print(csvfile.iloc[:, 0])\n",
        "\n",
        "lambda_x = csvfile.iloc[:, 1]\n",
        "\n",
        "for value in lambda_x:\n",
        "    print(value)"
      ],
      "metadata": {
        "id": "MyXA5wEZRgZQ"
      },
      "execution_count": null,
      "outputs": []
    },
    {
      "cell_type": "markdown",
      "source": [
        "## **Step 1**"
      ],
      "metadata": {
        "id": "fu35wY0eRkXz"
      }
    },
    {
      "cell_type": "code",
      "source": [
        "h = 6.62606957e-34\n",
        "c = 299792458\n",
        "k_B = 1.3806488e-23\n",
        "\n",
        "temps = np.linspace(1000, 30000, 291)\n",
        "\n",
        "lambda_nm = csvfile.iloc[:, 0]\n",
        "lambda_x = csvfile.iloc[:, 1]\n",
        "lambda_y = csvfile.iloc[:, 2]\n",
        "lambda_z = csvfile.iloc[:, 3]\n",
        "\n",
        "# Μετατροπή nm -> m\n",
        "lambda_m = lambda_nm.to_numpy() * 1e-9\n",
        "\n",
        "def planck_radiance(lambda_m, T):\n",
        "    return 2*h*c**2 / ((lambda_m**5) * (np.exp((h*c)/(lambda_m*k_B*T)) - 1))  # B_T(λ) for every λ\n",
        "\n",
        "# Υπολογισμός (X, Y, Z) με διακριτό άθροισμα\n",
        "def XYZ_calc(T):\n",
        "    B = planck_radiance(lambda_m, T)\n",
        "    step_of_L_m = lambda_nm[1]-lambda_nm[0]\n",
        "    X = np.sum(B * lambda_x)*step_of_L_m\n",
        "    Y = np.sum(B * lambda_y)*step_of_L_m\n",
        "    Z = np.sum(B * lambda_z)*step_of_L_m\n",
        "    return X, Y, Z"
      ],
      "metadata": {
        "id": "8tueFmXxRktZ"
      },
      "execution_count": null,
      "outputs": []
    },
    {
      "cell_type": "markdown",
      "source": [
        "## **Step 2**"
      ],
      "metadata": {
        "id": "JpeUZOWpR7Db"
      }
    },
    {
      "cell_type": "code",
      "source": [
        "Curves_x_y = []\n",
        "curves_x = []\n",
        "curves_y = []\n",
        "curves_T = []\n",
        "for T in temps:\n",
        "    X, Y, Z = XYZ_calc(T)\n",
        "    # print(f\"for T = {T} K, the X = {X}, Y = {Y}, Z = {Z}\")\n",
        "\n",
        "    # Κανονικοποίηση σε (x, y)\n",
        "    s = (X + Y + Z)\n",
        "    x = X / s\n",
        "    y = Y / s\n",
        "\n",
        "    print(f\"for T = {T} K, the x = {x}, y = {y}\")\n",
        "\n",
        "    # c = round(1000*x)\n",
        "    # r = round(1000*y)\n",
        "    # Curves_x_y.append([c, r])\n",
        "\n",
        "    curves_x.append(round(1000*x))\n",
        "    curves_y.append(round(1000*y))\n",
        "    curves_T.append(T)"
      ],
      "metadata": {
        "id": "F68Q4lV-R8qA"
      },
      "execution_count": null,
      "outputs": []
    },
    {
      "cell_type": "markdown",
      "source": [
        "## **Step 3**"
      ],
      "metadata": {
        "id": "70CmIFANSAPJ"
      }
    },
    {
      "cell_type": "markdown",
      "source": [
        "### 3.1 Using Colour"
      ],
      "metadata": {
        "id": "txKfAb9XSKu5"
      }
    },
    {
      "cell_type": "code",
      "source": [
        "!pip install colour-science colour-demosaicing\n",
        "!pip install colour-demosaicing\n",
        "\n",
        "import colour\n",
        "\n",
        "from colour_demosaicing import (\n",
        "    demosaicing_CFA_Bayer_bilinear,\n",
        "    demosaicing_CFA_Bayer_Malvar2004,\n",
        "    demosaicing_CFA_Bayer_Menon2007,\n",
        "    mosaicing_CFA_Bayer)\n",
        "\n",
        "colour.plotting.colour_style();\n",
        "colour.utilities.describe_environment();"
      ],
      "metadata": {
        "id": "_3f6gsxUSO33"
      },
      "execution_count": null,
      "outputs": []
    },
    {
      "cell_type": "code",
      "source": [
        "CFA = colour.io.read_image('CFA_stream.png')\n",
        "\n",
        "colour.plotting.plot_image(\n",
        "    colour.cctf_encoding(CFA))\n",
        "\n",
        "\n",
        "colour.plotting.plot_image(\n",
        "    colour.cctf_encoding(demosaicing_CFA_Bayer_bilinear(CFA, 'GBRG')));\n",
        "\n",
        "\n",
        "colour.plotting.plot_image(\n",
        "    colour.cctf_encoding(demosaicing_CFA_Bayer_Malvar2004(CFA, 'GBRG')));\n",
        "\n",
        "colour.plotting.plot_image(\n",
        "    colour.cctf_encoding(demosaicing_CFA_Bayer_Menon2007(CFA, 'GBRG')));\n",
        "\n",
        "height, width = CFA.shape\n",
        "print(height)\n",
        "cv2_imshow(CFA)"
      ],
      "metadata": {
        "id": "E1ebzbBrSQyE"
      },
      "execution_count": null,
      "outputs": []
    },
    {
      "cell_type": "markdown",
      "source": [
        "### 3.1 Using Opencv"
      ],
      "metadata": {
        "id": "GUhz3DG5SM2n"
      }
    },
    {
      "cell_type": "code",
      "source": [
        "# image = cv2.imread('CFA_stream.png')\n",
        "# image_rgb = cv2.cvtColor(image, cv2.COLOR_BGR2RGB)\n",
        "image_gray = cv2.imread('CFA_stream.png',cv2.IMREAD_GRAYSCALE)\n",
        "\n",
        "image_demosaiced = cv2.cvtColor(image_gray, cv2.COLOR_BayerGR2RGB) # COLOR_BayerGB2RGB\n",
        "image_rgb = image_demosaiced\n",
        "image_cv = cv2.cvtColor(image_rgb, cv2.COLOR_RGB2BGR)\n",
        "\n",
        "cv2_imshow(image_cv)"
      ],
      "metadata": {
        "id": "focHioEdSU9E"
      },
      "execution_count": null,
      "outputs": []
    },
    {
      "cell_type": "markdown",
      "source": [
        "## **Step 4**"
      ],
      "metadata": {
        "id": "gHQkUHOpSBG9"
      }
    },
    {
      "cell_type": "code",
      "source": [
        "img_rgb = image_rgb.astype(np.float32) / 255.0 # Η colour διαβαζει το rgb οχι το bgr image\n",
        "\n",
        "image_xyz = colour.models.sRGB_to_XYZ(img_rgb)\n",
        "\n",
        "# image_xyz = colour.models.sRGB_to_XYZ(image_rgb)\n",
        "\n",
        "colour.plotting.plot_image(image_xyz);\n",
        "print(np.max(image_xyz))"
      ],
      "metadata": {
        "id": "413iPpkQSYYq"
      },
      "execution_count": null,
      "outputs": []
    },
    {
      "cell_type": "code",
      "source": [
        "image_xyz_cv = cv2.cvtColor(image_rgb, cv2.COLOR_RGB2XYZ)\n",
        "cv2_imshow(image_xyz_cv) # in GBR"
      ],
      "metadata": {
        "id": "a1_4o31NSY4l"
      },
      "execution_count": null,
      "outputs": []
    },
    {
      "cell_type": "markdown",
      "source": [
        "## **Step 5**"
      ],
      "metadata": {
        "id": "DZbiUFJOSCsr"
      }
    },
    {
      "cell_type": "code",
      "source": [
        "# cv2_imshow(image_rgb)\n",
        "\n",
        "mean_rgb = np.mean(image_cv, axis=(0, 1))\n",
        "print(\"Μέσο RGB:\", mean_rgb)\n",
        "\n",
        "# mask_r = cv2.inRange(image_cv[:,:,0],0,20)\n",
        "# mask_g = cv2.inRange(image_cv[:,:,1],0,70)\n",
        "# mask_b = cv2.inRange(image_cv[:,:,2],0,130)\n",
        "# cv2_imshow(mask_b)\n",
        "# mask_r = cv2.bitwise_not(mask_r)\n",
        "# mask_g = cv2.bitwise_not(mask_r)\n",
        "# mask_b = cv2.bitwise_not(mask_r)\n",
        "\n",
        "# result = cv2.bitwise_and(image_cv,image_cv,mask = mask_r & mask_g & mask_b) # ???????????????????????????????????????????\n",
        "# cv2_imshow(result)\n",
        "\n",
        "\n",
        "min_rgb = np.array([0, 0, 0])\n",
        "max_rgb = np.array([255, 70, 130])\n",
        "mask = cv2.inRange(image_cv, min_rgb, max_rgb)\n",
        "inverted_mask = cv2.bitwise_not(mask)\n",
        "cv2_imshow(inverted_mask)\n",
        "\n",
        "image_rgb_masked = cv2.bitwise_and(image_cv, image_cv, mask=inverted_mask)\n",
        "cv2_imshow(image_rgb_masked)"
      ],
      "metadata": {
        "id": "NU6SR8cBSanM"
      },
      "execution_count": null,
      "outputs": []
    },
    {
      "cell_type": "markdown",
      "source": [
        "## **Step 6**"
      ],
      "metadata": {
        "id": "lvFu36TSSD0j"
      }
    },
    {
      "cell_type": "code",
      "source": [
        "sample_xyz = cv2.cvtColor(image_rgb_masked, cv2.COLOR_RGB2XYZ)\n",
        "\n",
        "Xs = sample_xyz[:, :, 0]\n",
        "Ys = sample_xyz[:, :, 1]\n",
        "Zs = sample_xyz[:, :, 2]\n",
        "\n",
        "s_image = Xs + Ys + Zs\n",
        "with np.errstate(divide='ignore', invalid='ignore'):\n",
        "    x_image = Xs / s_image\n",
        "    y_image = Ys / s_image\n",
        "\n",
        "x_img = []\n",
        "y_img = []\n",
        "\n",
        "# mask = ~np.isnan(x_image) & ~np.isnan(y_image)\n",
        "# x_img = x_image[mask]\n",
        "# y_img = y_image[mask]\n",
        "\n",
        "print(x_img)\n",
        "# print(y_img)\n",
        "# for T, (X, Y, Z) in zip(temps, zip(Χs, Ys, Zs)):\n",
        "# for x, y, x_img, y_img in zip(curves_x, curves_y, x_image, y_image):\n",
        "#     if not (np.isnan(x) or np.isnan(y)):\n",
        "#        x = round(1000 * x)\n",
        "#        y = round(1000 * y)\n"
      ],
      "metadata": {
        "id": "bJlIA5u4Se07"
      },
      "execution_count": null,
      "outputs": []
    },
    {
      "cell_type": "markdown",
      "source": [
        "## **Step 7**"
      ],
      "metadata": {
        "id": "_H9PMVPpSFLA"
      }
    },
    {
      "cell_type": "markdown",
      "source": [
        "### 7.1 Histogram"
      ],
      "metadata": {
        "id": "mN_YI58HSi7Z"
      }
    },
    {
      "cell_type": "code",
      "source": [
        "print(Image_x_y)\n",
        "\n",
        "temperature_values = [image_result[y][x][0] for x, y in Image_x_y]  # Red channel\n",
        "\n",
        "# Plot histogram\n",
        "plt.hist(temperature_values, bins=20, color='orange', edgecolor='black')\n",
        "plt.xlabel('Temperature Value')\n",
        "plt.ylabel('Frequency')\n",
        "plt.grid(True)\n",
        "plt.show()"
      ],
      "metadata": {
        "id": "870agWAWSfzT"
      },
      "execution_count": null,
      "outputs": []
    },
    {
      "cell_type": "markdown",
      "source": [
        "### 7.1 Heatmap"
      ],
      "metadata": {
        "id": "30te5EZiSjVk"
      }
    },
    {
      "cell_type": "code",
      "source": [
        "height, width, channel = image_result.shape\n",
        "\n",
        "heatmap = np.zeros((height, width), dtype=np.float32)\n",
        "\n",
        "for x, y in Image_x_y:\n",
        "    if 0 <= x < width and 0 <= y < height:\n",
        "        heatmap[y, x] += 1  # Note: y first because of row-major order\n",
        "\n",
        "heatmap_blur = cv2.GaussianBlur(image_result,(3,3), 11)\n",
        "colored_heatmap = cv2.applyColorMap(np.uint8(255 * heatmap_blur), cv2.COLORMAP_JET)\n",
        "\n",
        "plt.imshow(colored_heatmap)\n",
        "plt.axis('off')\n",
        "plt.show()"
      ],
      "metadata": {
        "id": "ZBMIW7ymSmM2"
      },
      "execution_count": null,
      "outputs": []
    },
    {
      "cell_type": "code",
      "source": [
        "plt.imshow(colored_heatmap)\n",
        "plt.imshow(colored_heatmap, cmap='jet', origin='upper')  # bottom-left\n",
        "plt.colorbar()\n",
        "plt.axis('off')\n",
        "plt.show()"
      ],
      "metadata": {
        "id": "QZ6wgrn5Sn_M"
      },
      "execution_count": null,
      "outputs": []
    },
    {
      "cell_type": "code",
      "source": [
        "image = cv2.resize(image_result, (width, height))\n",
        "\n",
        "overlay = cv2.addWeighted(image, 0.6, colored_heatmap, 0.4, 0)\n",
        "\n",
        "plt.imshow(cv2.cvtColor(overlay, cv2.COLOR_BGR2RGB))\n",
        "plt.axis('off')\n",
        "plt.show()"
      ],
      "metadata": {
        "id": "LtHVRTMISpbL"
      },
      "execution_count": null,
      "outputs": []
    },
    {
      "cell_type": "code",
      "source": [
        "blur = cv2.GaussianBlur(image_rgb,(3,3), 11)\n",
        "cv2_imshow(blur)"
      ],
      "metadata": {
        "id": "K-WXEzpmSrDR"
      },
      "execution_count": null,
      "outputs": []
    },
    {
      "cell_type": "code",
      "source": [
        "heatmap_img = cv2.applyColorMap(blur, cv2.COLORMAP_JET)\n",
        "cv2_imshow(heatmap_img)"
      ],
      "metadata": {
        "id": "ZqmsSYgbSss8"
      },
      "execution_count": null,
      "outputs": []
    },
    {
      "cell_type": "code",
      "source": [
        "super_imposed_img = cv2.addWeighted(heatmap_img, 0.5, image_rgb, 0.5, 0)\n",
        "cv2_imshow(super_imposed_img)"
      ],
      "metadata": {
        "id": "mTg7vesHSuIs"
      },
      "execution_count": null,
      "outputs": []
    }
  ]
}